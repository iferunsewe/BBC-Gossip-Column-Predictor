{
 "cells": [
  {
   "cell_type": "code",
   "execution_count": null,
   "id": "0b1a3f3a",
   "metadata": {},
   "outputs": [],
   "source": [
    "import pandas as pd\n",
    "import numpy as np\n",
    "from sklearn.metrics import confusion_matrix\n",
    "import utils\n",
    "import matplotlib.pyplot as plt\n",
    "import seaborn as sns\n",
    "import scipy.stats\n",
    "import os"
   ]
  },
  {
   "cell_type": "code",
   "execution_count": null,
   "id": "13fd8de6",
   "metadata": {
    "lines_to_next_cell": 1
   },
   "outputs": [],
   "source": [
    "FIGSIZE = (12, 14)\n",
    "CATEGORICAL_RESULTS_TO_SHOW = 10\n",
    "FONTSIZE = 24"
   ]
  },
  {
   "cell_type": "code",
   "execution_count": null,
   "id": "a2596605",
   "metadata": {
    "lines_to_next_cell": 1
   },
   "outputs": [],
   "source": [
    "# Preprocess data for visualization by dropping NaNs and converting y_col to numeric\n",
    "def preprocess_for_visulization(data, x_col, y_col):\n",
    "    # Drop rows with NaN values in the x_col and y_col columns\n",
    "    data = data[[x_col, y_col]].dropna()\n",
    "\n",
    "    # Convert 'veracity' column to numeric\n",
    "    data[y_col] = pd.to_numeric(data[y_col])\n",
    "\n",
    "    return data"
   ]
  },
  {
   "cell_type": "code",
   "execution_count": null,
   "id": "25453226",
   "metadata": {
    "lines_to_next_cell": 1
   },
   "outputs": [],
   "source": [
    "# Plot a boxplot figure with specified data, columns, title, and save to a file\n",
    "def plot_boxplot_figure(data, x_col, y_col, title, x_col_label, y_col_label, save_path):\n",
    "    plt.figure(figsize=(8, 8))\n",
    "    sns.boxplot(data=data, x=y_col, y=x_col)\n",
    "    plt.title(title, fontsize=FONTSIZE)\n",
    "    plt.xlabel(y_col_label, fontsize=FONTSIZE)\n",
    "    plt.ylabel(x_col_label, fontsize=FONTSIZE) \n",
    "    plt.savefig(save_path)\n",
    "    plt.close()"
   ]
  },
  {
   "cell_type": "code",
   "execution_count": null,
   "id": "2b4bd5ef",
   "metadata": {
    "lines_to_next_cell": 1
   },
   "outputs": [],
   "source": [
    "# Print descriptive statistics for boxplot data\n",
    "def print_boxplot_statistics(data, x_col, y_col, title):\n",
    "    boxplot_stats = data.groupby(y_col)[x_col].describe()\n",
    "    print(f\"Boxplot statistics for {title}:\\n\")\n",
    "    print(boxplot_stats)"
   ]
  },
  {
   "cell_type": "code",
   "execution_count": null,
   "id": "b164e356",
   "metadata": {
    "lines_to_next_cell": 1
   },
   "outputs": [],
   "source": [
    "# Convert specified column in data to numeric\n",
    "def convert_column_to_numeric(data, column):\n",
    "    data[column] = pd.to_numeric(data[column], errors='coerce')\n",
    "    return data"
   ]
  },
  {
   "cell_type": "code",
   "execution_count": null,
   "id": "9f18156b",
   "metadata": {
    "lines_to_next_cell": 1
   },
   "outputs": [],
   "source": [
    "# Drop rows with NaN values in specified columns\n",
    "def drop_na_rows(data, columns):\n",
    "    data_no_na = data[columns].dropna()\n",
    "    return data_no_na\n",
    "\n",
    " # Calculate Pearson correlation and p-value between x_col and y_col\n",
    "def calculate_pearsonr_correlation(data, x_col, y_col):\n",
    "    pearsonr, p_value = scipy.stats.pearsonr(data[y_col], data[x_col])\n",
    "    return pearsonr, p_value"
   ]
  },
  {
   "cell_type": "code",
   "execution_count": null,
   "id": "456751fb",
   "metadata": {
    "lines_to_next_cell": 1
   },
   "outputs": [],
   "source": [
    "# Interpret and print correlation and p-value results\n",
    "def interpret_relationship(corr, p_value, x_col, y_col):\n",
    "    if corr > 0:\n",
    "        relationship = \"positive\"\n",
    "    elif corr < 0:\n",
    "        relationship = \"negative\"\n",
    "    else:\n",
    "        relationship = \"no\"\n",
    "\n",
    "    if abs(corr) >= 0.7:\n",
    "        strength = \"strong\"\n",
    "    elif abs(corr) >= 0.3:\n",
    "        strength = \"moderate\"\n",
    "    else:\n",
    "        strength = \"weak\"\n",
    "\n",
    "    print(f\"The correlation of {corr} indicates {relationship} relationship between {x_col} and {y_col} is {strength}.\")\n",
    "\n",
    "    if p_value < 0.05:\n",
    "        print(\"The P-value is less than 0.05, which suggests that there is a statistically significant relationship between the two variables.\")\n",
    "    else:\n",
    "        print(\"The P-value is greater than 0.05, which suggests that there is no statistically significant relationship between the two variables.\")"
   ]
  },
  {
   "cell_type": "code",
   "execution_count": null,
   "id": "b8ac7904",
   "metadata": {
    "lines_to_next_cell": 1
   },
   "outputs": [],
   "source": [
    "# Calculate, interpret, and print Pearson correlation for specified columns\n",
    "def print_correlation(data, x_col, y_col):\n",
    "    corr, p_value = calculate_pearsonr_correlation(data, x_col, y_col)\n",
    "    interpret_relationship(corr, p_value, x_col, y_col)"
   ]
  },
  {
   "cell_type": "code",
   "execution_count": null,
   "id": "5fdff5a2",
   "metadata": {
    "lines_to_next_cell": 1
   },
   "outputs": [],
   "source": [
    "# Create a summary table of true rumour proportions for specified columns\n",
    "def create_true_rumour_summary_table(data, x_col, y_col):\n",
    "    true_rumour_counts = data.groupby(x_col)[y_col].sum()\n",
    "    total_counts = data[x_col].value_counts()\n",
    "    proportion_true_rumours = (true_rumour_counts / total_counts)\n",
    "    filtered_proportions = proportion_true_rumours[(proportion_true_rumours > 0) & (total_counts > CATEGORICAL_RESULTS_TO_SHOW)]\n",
    "    sorted_proportions = filtered_proportions.sort_values(ascending=False)\n",
    "    percentage_true_rumours = (filtered_proportions * 100).round(2)\n",
    "    summary = pd.concat([total_counts, percentage_true_rumours], axis=1)\n",
    "    summary = summary.loc[sorted_proportions.index]\n",
    "    summary.columns = ['Count', 'Percentage of true rumours']\n",
    "    summary = summary.sort_values('Percentage of true rumours', ascending=False)\n",
    "    print(f\"Relationship summary between {x_col} and {y_col}:\\n{summary}\")\n",
    "\n",
    "    return summary, sorted_proportions"
   ]
  },
  {
   "cell_type": "code",
   "execution_count": null,
   "id": "a842d115",
   "metadata": {
    "lines_to_next_cell": 1
   },
   "outputs": [],
   "source": [
    "# Plot a bar chart of sorted proportions with specified title and save to a file\n",
    "def plot_bar_chart(sorted_proportions, title, x_col_label, y_col_label, save_path):\n",
    "    plt.figure(figsize=(34, 40))\n",
    "    ax1 = plt.gca()\n",
    "    sorted_proportions.plot(kind='bar', ax=ax1)\n",
    "    ax1.set_title(title, fontsize=30)\n",
    "    ax1.set_ylabel(y_col_label, fontsize=40)\n",
    "    ax1.set_xlabel(x_col_label, fontsize=40)\n",
    "    ax1.set_xticklabels([shorten_label(label.get_text()) for label in ax1.get_xticklabels()], fontsize=FONTSIZE)\n",
    "    plt.setp(ax1.get_xticklabels(), rotation=45, ha=\"right\", rotation_mode=\"anchor\", fontsize=FONTSIZE)\n",
    "    plt.tick_params(axis='both', which='major', labelsize=30)\n",
    "    ax1.yaxis.set_major_formatter(plt.FuncFormatter(lambda x, _: f'{(x*100).round(2)}%'))\n",
    "    plt.savefig(save_path)\n",
    "    plt.close()"
   ]
  },
  {
   "cell_type": "code",
   "execution_count": null,
   "id": "7c304c30",
   "metadata": {
    "lines_to_next_cell": 1
   },
   "outputs": [],
   "source": [
    "# Create a table in matplotlib with specified data and save to a file\n",
    "def create_matplotlib_table(data, save_path):\n",
    "    _, ax = plt.subplots(figsize=FIGSIZE)\n",
    "    ax.axis('off')\n",
    "    table = ax.table(cellText=data.values, rowLabels=[shorten_label(label) for label in data.index], colLabels=data.columns, cellLoc='center', loc='center')\n",
    "    table.auto_set_font_size(False)\n",
    "    table.set_fontsize(12)\n",
    "    table.auto_set_column_width(col=list(range(len(data.columns))))\n",
    "    table.scale(1, 1.5)\n",
    "\n",
    "    plt.savefig(save_path) \n",
    "    plt.close()"
   ]
  },
  {
   "cell_type": "code",
   "execution_count": null,
   "id": "0151e7f3",
   "metadata": {
    "lines_to_next_cell": 1
   },
   "outputs": [],
   "source": [
    "# Calculate class proportions for a given target variable (y)\n",
    "def calculate_class_proportions(y):\n",
    "    class_counts = y.value_counts()\n",
    "    total_count = len(y)\n",
    "    class_proportions = class_counts / total_count\n",
    "    return class_proportions"
   ]
  },
  {
   "cell_type": "code",
   "execution_count": null,
   "id": "5b928210",
   "metadata": {
    "lines_to_next_cell": 1
   },
   "outputs": [],
   "source": [
    "# Plot a bar chart of class distribution with optional title and save path\n",
    "def plot_class_distribution(y, title='Class Distribution', save_path=None):\n",
    "    class_proportions = calculate_class_proportions(y)\n",
    "    plt.figure(figsize=FIGSIZE)\n",
    "    plt.bar(class_proportions.index, class_proportions.values)\n",
    "    plt.xlabel('Class', fontsize=FONTSIZE)\n",
    "    plt.ylabel('Proportion', fontsize=FONTSIZE)\n",
    "    plt.xticks([0, 1])\n",
    "    plt.title(title, fontsize=FONTSIZE)\n",
    "    plt.tick_params(axis='both', which='major', labelsize=FONTSIZE)\n",
    "\n",
    "    if save_path:\n",
    "        plt.savefig(save_path)"
   ]
  },
  {
   "cell_type": "code",
   "execution_count": null,
   "id": "ed872efe",
   "metadata": {
    "lines_to_next_cell": 1
   },
   "outputs": [],
   "source": [
    "def shorten_label(label):\n",
    "    if len(label) > 15:\n",
    "        return label[:15] + '...'\n",
    "    return label"
   ]
  },
  {
   "cell_type": "code",
   "execution_count": null,
   "id": "5398cb52",
   "metadata": {
    "lines_to_next_cell": 1
   },
   "outputs": [],
   "source": [
    "# Plot a bar chart of feature importances with optional title and save path\n",
    "def plot_confusion_matrix(model_name, y_test, y_pred, save_path):\n",
    "    print(\"\\nPlotting confusion matrix...\")\n",
    "    plt.figure(figsize=FIGSIZE)\n",
    "    cm = confusion_matrix(y_test, y_pred)\n",
    "    sns.heatmap(cm, annot=True, cmap='Blues', fmt='d')\n",
    "    plt.title(f\"{model_name} Confusion Matrix\", fontsize=FONTSIZE)\n",
    "    plt.xlabel(\"Predicted Label\", fontsize=FONTSIZE)\n",
    "    plt.ylabel(\"True Label\", fontsize=FONTSIZE)\n",
    "    plt.tick_params(axis='both', which='major', labelsize=FONTSIZE)\n",
    "    plt.savefig(save_path)\n",
    "    plt.close()"
   ]
  },
  {
   "cell_type": "code",
   "execution_count": null,
   "id": "b7a5e5cd",
   "metadata": {
    "lines_to_next_cell": 1
   },
   "outputs": [],
   "source": [
    "# Plot a bar chart of feature importances with optional title and save path\n",
    "def plot_feature_importances(model_name, model, X_train, save_path):\n",
    "    model_importances = sorted(zip(X_train.columns, model.feature_importances_), key=lambda x: x[1], reverse=True)\n",
    "    importances_df = pd.DataFrame(model_importances, columns=['Feature', 'Importance'])\n",
    "    plt.figure(figsize=(30, 8))\n",
    "    sns.barplot(x='Importance', y='Feature', data=importances_df.head(10))\n",
    "    plt.title(f\"{model_name} Feature Importances\", fontsize=FONTSIZE)\n",
    "    plt.xlabel('Importance', fontsize=FONTSIZE)\n",
    "    plt.ylabel('Feature', fontsize=FONTSIZE)\n",
    "    plt.tick_params(axis='both', which='major', labelsize=18)\n",
    "    plt.savefig(save_path)\n",
    "    plt.close()"
   ]
  },
  {
   "cell_type": "code",
   "execution_count": null,
   "id": "8f4a96e5",
   "metadata": {
    "lines_to_next_cell": 1
   },
   "outputs": [],
   "source": [
    "# Visualize and analyze continuous relationships between features and target column\n",
    "def show_continuous_relationship(data, continuous_features, y_col):\n",
    "    for feature in continuous_features:\n",
    "        if feature in data.columns:\n",
    "            data_continuous = preprocess_for_visulization(data, feature, y_col)\n",
    "            save_path = os.path.join('results', f\"{feature}_vs_{y_col}_boxplot.png\")\n",
    "            if feature == \"market_value\":\n",
    "                x_col_label = \"Market Value (in millions)\"\n",
    "            elif feature == \"time_to_transfer_window\":\n",
    "                x_col_label = \"Time to Transfer Window (in days)\"\n",
    "            else:\n",
    "                x_col_label = feature\n",
    "    \n",
    "            plot_boxplot_figure(data_continuous, feature, y_col, f\"{feature} vs. {y_col}\", x_col_label, y_col, save_path)\n",
    "            print_boxplot_statistics(data_continuous, feature, y_col, f\"{feature} vs. {y_col}\")\n",
    "        else:\n",
    "            print(f\"Feature not found in the data: {feature}\")\n",
    "        data = convert_column_to_numeric(data, y_col)\n",
    "        data_no_na = drop_na_rows(data, [feature, y_col])\n",
    "        print_correlation(data_no_na, feature, y_col)"
   ]
  },
  {
   "cell_type": "code",
   "execution_count": null,
   "id": "1395e540",
   "metadata": {
    "lines_to_next_cell": 1
   },
   "outputs": [],
   "source": [
    "# Visualize and analyze categorical relationships between features and target column\n",
    "def show_categorical_relationship(data, categorical_features, y_col):\n",
    "    for feature in categorical_features:\n",
    "        if feature in data.columns:\n",
    "            data_categorical = data[[feature, y_col]].dropna()\n",
    "            summary, sorted_proportions = create_true_rumour_summary_table(data_categorical, feature, y_col)\n",
    "\n",
    "            # Check if the DataFrame is not empty\n",
    "            if not sorted_proportions.empty:\n",
    "                save_path_bar_chart = os.path.join('results', f\"{feature}_vs_{y_col}_bar_chart.png\")\n",
    "                plot_bar_chart(sorted_proportions, f\"{feature} vs. {y_col}\", feature, 'Percentage of true rumours', save_path_bar_chart)\n",
    "\n",
    "                save_path_summary_table = os.path.join('results', f\"{feature}_vs_{y_col}_summary_table.png\")\n",
    "                create_matplotlib_table(summary, save_path_summary_table)\n",
    "            else:\n",
    "                print(f\"Warning: The DataFrame for {feature} and {y_col} is empty. Skipping the plot.\")\n",
    "        else:\n",
    "            print(f\"Feature not found in the data: {feature}\")"
   ]
  },
  {
   "cell_type": "code",
   "execution_count": null,
   "id": "363999d4",
   "metadata": {
    "lines_to_next_cell": 1
   },
   "outputs": [],
   "source": [
    "def visualize_and_analyze(data, continuous_features, categorical_features, y_col):\n",
    "    # Create 'results' directory if it doesn't exist\n",
    "    if not os.path.exists('results'):\n",
    "        os.makedirs('results')\n",
    "\n",
    "    target_col_data = data[y_col]\n",
    "    \n",
    "    plot_class_distribution(target_col_data, title='Class Distribution in Training Set', save_path=os.path.join('results', 'class_distribution_train.png'))\n",
    "    show_continuous_relationship(data, continuous_features, y_col)\n",
    "    show_categorical_relationship(data, categorical_features, y_col)"
   ]
  },
  {
   "cell_type": "code",
   "execution_count": null,
   "id": "0eb4c682",
   "metadata": {
    "lines_to_next_cell": 1
   },
   "outputs": [],
   "source": [
    "def main():\n",
    "    data = utils.pandas_load_csv(\"output_data.csv\")\n",
    "\n",
    "    #Plot the relationship between the specified features and veracity\n",
    "    continuous_features_to_analyze = ['age', 'time_to_transfer_window', 'market_value']\n",
    "    categorical_features_to_analyze = ['nationality', 'position', 'source']\n",
    "    visualize_and_analyze(data, continuous_features_to_analyze, categorical_features_to_analyze, 'veracity')"
   ]
  },
  {
   "cell_type": "code",
   "execution_count": null,
   "id": "b58487fc",
   "metadata": {},
   "outputs": [],
   "source": [
    "if __name__ == '__main__':\n",
    "    main()"
   ]
  }
 ],
 "metadata": {
  "jupytext": {
   "cell_metadata_filter": "-all",
   "main_language": "python",
   "notebook_metadata_filter": "-all"
  }
 },
 "nbformat": 4,
 "nbformat_minor": 5
}
