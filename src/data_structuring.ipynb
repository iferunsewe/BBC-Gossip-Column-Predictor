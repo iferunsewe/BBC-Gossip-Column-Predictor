{
 "cells": [
  {
   "cell_type": "code",
   "execution_count": null,
   "id": "5a1ba815",
   "metadata": {
    "lines_to_next_cell": 1
   },
   "outputs": [],
   "source": [
    "import csv\n",
    "import openai\n",
    "import os\n",
    "import json\n",
    "import utils"
   ]
  },
  {
   "cell_type": "code",
   "execution_count": null,
   "id": "fa3181cf",
   "metadata": {
    "lines_to_next_cell": 1
   },
   "outputs": [],
   "source": [
    "def read_csv_file(filename):\n",
    "  with open(utils.get_data_file_path(filename), mode=\"r\", encoding=\"utf-8\") as infile:\n",
    "    reader = csv.DictReader(infile)\n",
    "    return list(reader)"
   ]
  },
  {
   "cell_type": "code",
   "execution_count": null,
   "id": "231659de",
   "metadata": {
    "lines_to_next_cell": 1
   },
   "outputs": [],
   "source": [
    "def set_api_key():\n",
    "    api_key = utils.load_api_key(\"OPENAI_API_KEY\")\n",
    "    openai.api_key = api_key"
   ]
  },
  {
   "cell_type": "code",
   "execution_count": null,
   "id": "b6b76737",
   "metadata": {
    "lines_to_next_cell": 1
   },
   "outputs": [],
   "source": [
    "def determine_file_mode(filename):\n",
    "    return \"a\" if os.path.exists(filename) else \"w\""
   ]
  },
  {
   "cell_type": "code",
   "execution_count": null,
   "id": "d60aeb90",
   "metadata": {
    "lines_to_next_cell": 1
   },
   "outputs": [],
   "source": [
    "# Writes a row to a CSV file with the given fieldnames\n",
    "def write_csv_row(filename, fieldnames, row):\n",
    "    mode = determine_file_mode(filename)\n",
    "\n",
    "    with open(utils.get_data_file_path(filename), mode=mode, encoding=\"utf-8\", newline='') as outfile:\n",
    "        writer = csv.DictWriter(outfile, fieldnames=fieldnames)\n",
    "        if mode == \"w\":\n",
    "            writer.writeheader()\n",
    "        writer.writerow(row)"
   ]
  },
  {
   "cell_type": "code",
   "execution_count": null,
   "id": "8c292e6a",
   "metadata": {
    "lines_to_next_cell": 1
   },
   "outputs": [],
   "source": [
    "# Extracts structured football info using OpenAI API and returns the result as a dictionary\n",
    "def extract_football_info(raw_text):\n",
    "    prompt = f\"Structure the following raw_text into json that includes fields 'player_name' and 'clubs_mentioned': {raw_text}. The result should be an array of objects where each object contains the player_name and clubs_mentioned fields. Only include football clubs in the clubs_mentioned field and not international teams. Only include actual football players in the player_name field and not football managers.\"\n",
    "    response = openai.Completion.create(\n",
    "        engine=\"text-davinci-002\",\n",
    "        prompt=prompt,\n",
    "        max_tokens=256,\n",
    "        n=1,\n",
    "        stop=None,\n",
    "        temperature=0.5,\n",
    "    )\n",
    "\n",
    "    # Get the response text\n",
    "    response_text = response.choices[0].text.replace(\"'\", '\"')\n",
    "    print(f\"Response text: {response_text}\")\n",
    "\n",
    "    # Convert the response text into a dictionary using json.loads\n",
    "    structured_data = json.loads(response_text)\n",
    "\n",
    "    print(f\"Structured data: {structured_data}\")\n",
    "    return structured_data"
   ]
  },
  {
   "cell_type": "code",
   "execution_count": null,
   "id": "5a9a903c",
   "metadata": {
    "lines_to_next_cell": 1
   },
   "outputs": [],
   "source": [
    "# Processes the rows in the input CSV file and writes the structured data to the output CSV file\n",
    "def process_rows(input_rows, fieldnames):\n",
    "    errors = []\n",
    "\n",
    "    for row in input_rows:\n",
    "        raw_text = row[\"raw_text\"]\n",
    "        try:\n",
    "            structured_data = extract_football_info(raw_text)\n",
    "\n",
    "            for data in structured_data:\n",
    "                if not data[\"player_name\"]:\n",
    "                    continue\n",
    "\n",
    "                new_row = {\n",
    "                    \"id\": row[\"id\"],\n",
    "                    \"date\": row[\"date\"],\n",
    "                    \"raw_text\": raw_text,\n",
    "                    \"player_name\": data[\"player_name\"],\n",
    "                    \"clubs_mentioned\": data[\"clubs_mentioned\"]\n",
    "                }\n",
    "\n",
    "                write_csv_row(\"structured_data.csv\", fieldnames, new_row)\n",
    "\n",
    "        except Exception as e:\n",
    "            error_info = {\"error\": str(e), \"raw_text\": raw_text}\n",
    "            errors.append(error_info)\n",
    "            print(f\"Error: {error_info}\")\n",
    "\n",
    "    return errors"
   ]
  },
  {
   "cell_type": "code",
   "execution_count": null,
   "id": "81f06b10",
   "metadata": {
    "lines_to_next_cell": 1
   },
   "outputs": [],
   "source": [
    "def structure_data(input_filename):\n",
    "    csv_headers = [\"id\", \"date\", \"raw_text\", \"player_name\", \"clubs_mentioned\"]\n",
    "    utils.create_csv(\"structured_data.csv\", csv_headers)\n",
    "    set_api_key()\n",
    "\n",
    "    # Read the input file\n",
    "    print(f\"Reading '{input_filename}'...\")\n",
    "    input_rows = read_csv_file(input_filename)\n",
    "\n",
    "    # Process each row in the input file\n",
    "    print(\"Processing rows...\")\n",
    "    errors = process_rows(input_rows, csv_headers)\n",
    "\n",
    "    # Print errors\n",
    "    print(f\"Errors ({len(errors)}): {errors}\")"
   ]
  },
  {
   "cell_type": "code",
   "execution_count": null,
   "id": "88616e57",
   "metadata": {
    "lines_to_next_cell": 1
   },
   "outputs": [],
   "source": [
    "def main():\n",
    "    structure_data(\"transfer_news_data.csv\")"
   ]
  },
  {
   "cell_type": "code",
   "execution_count": null,
   "id": "b60e54cb",
   "metadata": {},
   "outputs": [],
   "source": [
    "if __name__ == \"__main__\":\n",
    "    main()"
   ]
  }
 ],
 "metadata": {
  "jupytext": {
   "cell_metadata_filter": "-all",
   "main_language": "python",
   "notebook_metadata_filter": "-all"
  }
 },
 "nbformat": 4,
 "nbformat_minor": 5
}
