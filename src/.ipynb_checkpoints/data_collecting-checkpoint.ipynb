{
 "cells": [
  {
   "cell_type": "code",
   "execution_count": 1,
   "id": "baadf78d",
   "metadata": {
    "lines_to_next_cell": 1
   },
   "outputs": [],
   "source": [
    "import data_collection.bbc_transfer_rumours_scraper as bbc_scraper\n",
    "import data_collection.transfer_news_scraper as transfer_news_scraper\n",
    "import data_collection.transfermarkt_scraper as  transfermarkt_scraper\n",
    "import data_collection.football_api as football_api"
   ]
  },
  {
   "cell_type": "code",
   "execution_count": 2,
   "id": "5eadecb9",
   "metadata": {},
   "outputs": [],
   "source": [
    "def collect_data():\n",
    "    bbc_scraper.run()\n",
    "    transfer_news_scraper.run()\n",
    "    transfermarkt_scraper.run()\n",
    "    football_api.run()"
   ]
  },
  {
   "cell_type": "code",
   "execution_count": 3,
   "id": "c15c7a84",
   "metadata": {
    "lines_to_next_cell": 1
   },
   "outputs": [],
   "source": [
    "def main():\n",
    "    collect_data()"
   ]
  },
  {
   "cell_type": "code",
   "execution_count": null,
   "id": "19b76101",
   "metadata": {},
   "outputs": [
    {
     "name": "stdout",
     "output_type": "stream",
     "text": [
      "Checking GOOGLE_API_KEY...\n",
      "Checking CX_ID...\n",
      "Creating transfer_rumours_articles.csv...\n",
      "transfer_rumours_articles.csv already exists\n",
      "1. Use last date in transfer_rumours_articles.csv 2. Enter a start date in the format YYYY-MM-DD\n",
      "> 2\n",
      "> 2022-01-01\n",
      "Enter the end date in the format YYYY-MM-DD\n"
     ]
    }
   ],
   "source": [
    "if __name__ == \"__main__\":\n",
    "    main()"
   ]
  },
  {
   "cell_type": "code",
   "execution_count": null,
   "id": "f114c992",
   "metadata": {},
   "outputs": [],
   "source": []
  },
  {
   "cell_type": "code",
   "execution_count": null,
   "id": "67371f72",
   "metadata": {},
   "outputs": [],
   "source": []
  }
 ],
 "metadata": {
  "jupytext": {
   "cell_metadata_filter": "-all",
   "main_language": "python",
   "notebook_metadata_filter": "-all"
  },
  "kernelspec": {
   "display_name": "Python 3 (ipykernel)",
   "language": "python",
   "name": "python3"
  }
 },
 "nbformat": 4,
 "nbformat_minor": 5
}
