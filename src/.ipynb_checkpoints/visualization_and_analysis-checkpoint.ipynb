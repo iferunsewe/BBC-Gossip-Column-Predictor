{
 "cells": [
  {
   "cell_type": "code",
   "execution_count": 1,
   "id": "c34dbaf5",
   "metadata": {},
   "outputs": [],
   "source": [
    "import pandas as pd\n",
    "import numpy as np\n",
    "from sklearn.metrics import confusion_matrix\n",
    "import utils\n",
    "import matplotlib.pyplot as plt\n",
    "import seaborn as sns\n",
    "import scipy.stats\n",
    "import os"
   ]
  },
  {
   "cell_type": "code",
   "execution_count": 2,
   "id": "3ec05460",
   "metadata": {
    "lines_to_next_cell": 1
   },
   "outputs": [],
   "source": [
    "FIGSIZE = (12, 14)\n",
    "CATEGORICAL_RESULTS_TO_SHOW = 10"
   ]
  },
  {
   "cell_type": "code",
   "execution_count": 3,
   "id": "1a607de1",
   "metadata": {
    "lines_to_next_cell": 1
   },
   "outputs": [],
   "source": [
    "def preprocess_for_visulization(data, x_col, y_col):\n",
    "    # Drop rows with NaN values in the x_col and y_col columns\n",
    "    data = data[[x_col, y_col]].dropna()\n",
    "\n",
    "    # Convert 'veracity' column to numeric\n",
    "    data[y_col] = pd.to_numeric(data[y_col])\n",
    "\n",
    "    return data"
   ]
  },
  {
   "cell_type": "code",
   "execution_count": 4,
   "id": "d6ee4f64",
   "metadata": {
    "lines_to_next_cell": 1
   },
   "outputs": [],
   "source": [
    "def plot_boxplot_figure(data, x_col, y_col, title, save_path):\n",
    "    plt.figure(figsize=FIGSIZE)\n",
    "    sns.boxplot(data=data, x=y_col, y=x_col)\n",
    "    plt.title(title)\n",
    "    plt.xlabel(y_col)\n",
    "    plt.ylabel(x_col)\n",
    "    plt.savefig(save_path)\n",
    "    plt.close()"
   ]
  },
  {
   "cell_type": "code",
   "execution_count": 5,
   "id": "23367f6c",
   "metadata": {
    "lines_to_next_cell": 1
   },
   "outputs": [],
   "source": [
    "def print_boxplot_statistics(data, x_col, y_col, title):\n",
    "    boxplot_stats = data.groupby(y_col)[x_col].describe()\n",
    "    print(f\"Boxplot statistics for {title}:\\n\")\n",
    "    print(boxplot_stats)"
   ]
  },
  {
   "cell_type": "code",
   "execution_count": 6,
   "id": "e3aac96a",
   "metadata": {
    "lines_to_next_cell": 1
   },
   "outputs": [],
   "source": [
    "def convert_column_to_numeric(data, column):\n",
    "    data[column] = pd.to_numeric(data[column], errors='coerce')\n",
    "    return data"
   ]
  },
  {
   "cell_type": "code",
   "execution_count": 7,
   "id": "566962a3",
   "metadata": {
    "lines_to_next_cell": 1
   },
   "outputs": [],
   "source": [
    "def drop_na_rows(data, columns):\n",
    "    data_no_na = data[columns].dropna()\n",
    "    return data_no_na"
   ]
  },
  {
   "cell_type": "code",
   "execution_count": 8,
   "id": "b9f10838",
   "metadata": {
    "lines_to_next_cell": 1
   },
   "outputs": [],
   "source": [
    "def calculate_pearsonr_correlation(data, x_col, y_col):\n",
    "    pearsonr, p_value = scipy.stats.pearsonr(data[y_col], data[x_col])\n",
    "    return pearsonr, p_value"
   ]
  },
  {
   "cell_type": "code",
   "execution_count": 9,
   "id": "e48bf8a7",
   "metadata": {
    "lines_to_next_cell": 1
   },
   "outputs": [],
   "source": [
    "def interpret_relationship(corr, p_value, x_col, y_col):\n",
    "    if corr > 0:\n",
    "        relationship = \"positive\"\n",
    "    elif corr < 0:\n",
    "        relationship = \"negative\"\n",
    "    else:\n",
    "        relationship = \"no\"\n",
    "\n",
    "    if abs(corr) >= 0.7:\n",
    "        strength = \"strong\"\n",
    "    elif abs(corr) >= 0.3:\n",
    "        strength = \"moderate\"\n",
    "    else:\n",
    "        strength = \"weak\"\n",
    "\n",
    "    print(f\"The correlation of {corr} indicates {relationship} relationship between {x_col} and {y_col} is {strength}.\")\n",
    "\n",
    "    if p_value < 0.05:\n",
    "        print(\"The P-value is less than 0.05, which suggests that there is a statistically significant relationship between the two variables.\")\n",
    "    else:\n",
    "        print(\"The P-value is greater than 0.05, which suggests that there is no statistically significant relationship between the two variables.\")"
   ]
  },
  {
   "cell_type": "code",
   "execution_count": 10,
   "id": "ef6a9c83",
   "metadata": {
    "lines_to_next_cell": 1
   },
   "outputs": [],
   "source": [
    "def print_correlation(data, x_col, y_col):\n",
    "    corr, p_value = calculate_pearsonr_correlation(data, x_col, y_col)\n",
    "    interpret_relationship(corr, p_value, x_col, y_col)"
   ]
  },
  {
   "cell_type": "code",
   "execution_count": 11,
   "id": "d01eedaf",
   "metadata": {
    "lines_to_next_cell": 1
   },
   "outputs": [],
   "source": [
    "def create_true_rumour_summary_table(data, x_col, y_col):\n",
    "    true_rumour_counts = data.groupby(x_col)[y_col].sum()\n",
    "    total_counts = data[x_col].value_counts()\n",
    "    proportion_true_rumours = (true_rumour_counts / total_counts)\n",
    "    filtered_proportions = proportion_true_rumours[(proportion_true_rumours > 0) & (total_counts >= CATEGORICAL_RESULTS_TO_SHOW)]\n",
    "    sorted_proportions = filtered_proportions.sort_values(ascending=False)\n",
    "    percentage_true_rumours = (filtered_proportions * 100).round(2)\n",
    "    summary = pd.concat([total_counts, percentage_true_rumours], axis=1)\n",
    "    summary = summary.loc[sorted_proportions.index]\n",
    "    summary.columns = ['Count', 'Percentage of true rumours']\n",
    "    summary = summary.sort_values('Percentage of true rumours', ascending=False)\n",
    "    print(f\"Relationship summary between {x_col} and {y_col}:\\n{summary}\")\n",
    "\n",
    "    return summary, sorted_proportions"
   ]
  },
  {
   "cell_type": "code",
   "execution_count": 12,
   "id": "6fd32e95",
   "metadata": {
    "lines_to_next_cell": 1
   },
   "outputs": [],
   "source": [
    "def plot_bar_chart(sorted_proportions, title, save_path):\n",
    "    plt.figure(figsize=FIGSIZE)\n",
    "    ax1 = plt.gca()\n",
    "    sorted_proportions.plot(kind='bar', ax=ax1)\n",
    "    ax1.set_title(title)\n",
    "    ax1.set_ylabel('Percentage of true rumours')\n",
    "    ax1.set_xticklabels([shorten_label(label.get_text()) for label in ax1.get_xticklabels()])\n",
    "    plt.setp(ax1.get_xticklabels(), rotation=45, ha=\"right\", rotation_mode=\"anchor\", fontsize=12)\n",
    "    ax1.yaxis.set_major_formatter(plt.FuncFormatter(lambda x, _: f'{x:.2f}%'))\n",
    "    plt.savefig(save_path)\n",
    "    plt.close()"
   ]
  },
  {
   "cell_type": "code",
   "execution_count": 13,
   "id": "6f10285f",
   "metadata": {
    "lines_to_next_cell": 1
   },
   "outputs": [],
   "source": [
    "def create_matplotlib_table(summary, save_path):\n",
    "    _, ax = plt.subplots(figsize=FIGSIZE)\n",
    "    ax.axis('off')\n",
    "    table = ax.table(cellText=summary.values, rowLabels=[shorten_label(label) for label in summary.index], colLabels=summary.columns, cellLoc='center', loc='center')\n",
    "    table.auto_set_font_size(False)\n",
    "    table.set_fontsize(12)\n",
    "    table.auto_set_column_width(col=list(range(len(summary.columns))))\n",
    "    table.scale(1, 1.5)\n",
    "\n",
    "    plt.savefig(save_path) \n",
    "    plt.close()"
   ]
  },
  {
   "cell_type": "code",
   "execution_count": 14,
   "id": "343c16e4",
   "metadata": {
    "lines_to_next_cell": 1
   },
   "outputs": [],
   "source": [
    "def calculate_class_proportions(y):\n",
    "    class_counts = y.value_counts()\n",
    "    total_count = len(y)\n",
    "    class_proportions = class_counts / total_count\n",
    "    return class_proportions"
   ]
  },
  {
   "cell_type": "code",
   "execution_count": 15,
   "id": "b8a0f48c",
   "metadata": {
    "lines_to_next_cell": 1
   },
   "outputs": [],
   "source": [
    "def plot_class_distribution(y, title='Class Distribution', save_path=None):\n",
    "    class_proportions = calculate_class_proportions(y)\n",
    "    plt.figure(figsize=FIGSIZE)\n",
    "    plt.bar(class_proportions.index, class_proportions.values)\n",
    "    plt.xlabel('Class')\n",
    "    plt.ylabel('Proportion')\n",
    "    plt.xticks([0, 1])\n",
    "    plt.title(title)\n",
    "\n",
    "    if save_path:\n",
    "        plt.savefig(save_path)"
   ]
  },
  {
   "cell_type": "code",
   "execution_count": 16,
   "id": "01e72209",
   "metadata": {
    "lines_to_next_cell": 1
   },
   "outputs": [],
   "source": [
    "def shorten_label(label):\n",
    "    if len(label) > 15:\n",
    "        return label[:15] + '...'\n",
    "    return label"
   ]
  },
  {
   "cell_type": "code",
   "execution_count": 17,
   "id": "8676ad2c",
   "metadata": {
    "lines_to_next_cell": 1
   },
   "outputs": [],
   "source": [
    "def plot_confusion_matrix(model_name, y_test, y_pred, save_path):\n",
    "    print(\"\\nPlotting confusion matrix...\")\n",
    "    # Plot the confusion matrix\n",
    "    cm = confusion_matrix(y_test, y_pred)\n",
    "    sns.heatmap(cm, annot=True, cmap='Blues', fmt='d')\n",
    "    plt.title(f\"{model_name} Confusion Matrix\")\n",
    "    plt.xlabel(\"Predicted Label\")\n",
    "    plt.ylabel(\"True Label\")\n",
    "    plt.savefig(save_path)\n",
    "    plt.close()"
   ]
  },
  {
   "cell_type": "code",
   "execution_count": 18,
   "id": "89eae901",
   "metadata": {
    "lines_to_next_cell": 1
   },
   "outputs": [],
   "source": [
    "def plot_feature_importances(model_name, model, X_train, save_path):\n",
    "    model_importances = sorted(zip(X_train.columns, model.feature_importances_), key=lambda x: x[1], reverse=True)\n",
    "    importances_df = pd.DataFrame(model_importances, columns=['Feature', 'Importance'])\n",
    "    plt.figure(figsize=FIGSIZE)\n",
    "    sns.barplot(x='Importance', y='Feature', data=importances_df.head(10))\n",
    "    plt.title(f\"{model_name} Feature Importances\")\n",
    "    plt.xlabel('Importance')\n",
    "    plt.ylabel('Feature')\n",
    "    plt.savefig(save_path)\n",
    "    plt.close()"
   ]
  },
  {
   "cell_type": "code",
   "execution_count": 19,
   "id": "0d7bda09",
   "metadata": {
    "lines_to_next_cell": 1
   },
   "outputs": [],
   "source": [
    "def show_continuous_relationship(data, continuous_features, y_col):\n",
    "    for feature in continuous_features:\n",
    "        if feature in data.columns:\n",
    "            data_continuous = preprocess_for_visulization(data, feature, y_col)\n",
    "            save_path = os.path.join('results', f\"{feature}_vs_{y_col}_boxplot.png\")\n",
    "            plot_boxplot_figure(data_continuous, feature, y_col, f\"{feature} vs. {y_col}\", save_path)\n",
    "            print_boxplot_statistics(data_continuous, feature, y_col, f\"{feature} vs. {y_col}\")\n",
    "        else:\n",
    "            print(f\"Feature not found in the data: {feature}\")\n",
    "        data = convert_column_to_numeric(data, y_col)\n",
    "        data_no_na = drop_na_rows(data, [feature, y_col])\n",
    "        print_correlation(data_no_na, feature, y_col)"
   ]
  },
  {
   "cell_type": "code",
   "execution_count": 20,
   "id": "65777cac",
   "metadata": {
    "lines_to_next_cell": 1
   },
   "outputs": [],
   "source": [
    "def show_categorical_relationship(data, categorical_features, y_col):\n",
    "    for feature in categorical_features:\n",
    "        if feature in data.columns:\n",
    "            data_categorical = data[[feature, y_col]].dropna()\n",
    "            summary, sorted_proportions = create_true_rumour_summary_table(data_categorical, feature, y_col)\n",
    "\n",
    "            # Check if the DataFrame is not empty\n",
    "            if not sorted_proportions.empty:\n",
    "                save_path_bar_chart = os.path.join('results', f\"{feature}_vs_{y_col}_bar_chart.png\")\n",
    "                plot_bar_chart(sorted_proportions, f\"{feature} vs. {y_col}\", save_path_bar_chart)\n",
    "\n",
    "                save_path_summary_table = os.path.join('results', f\"{feature}_vs_{y_col}_summary_table.png\")\n",
    "                create_matplotlib_table(summary, save_path_summary_table)\n",
    "            else:\n",
    "                print(f\"Warning: The DataFrame for {feature} and {y_col} is empty. Skipping the plot.\")\n",
    "        else:\n",
    "            print(f\"Feature not found in the data: {feature}\")"
   ]
  },
  {
   "cell_type": "code",
   "execution_count": 21,
   "id": "7eae73b0",
   "metadata": {
    "lines_to_next_cell": 1
   },
   "outputs": [],
   "source": [
    "def visualize_and_analyze(data, continuous_features, categorical_features, y_col):\n",
    "    # Create 'results' directory if it doesn't exist\n",
    "    if not os.path.exists('results'):\n",
    "        os.makedirs('results')\n",
    "\n",
    "    target_col_data = data[y_col]\n",
    "    \n",
    "    plot_class_distribution(target_col_data, title='Class Distribution in Training Set', save_path=os.path.join('results', 'class_distribution_train.png'))\n",
    "\n",
    "    show_continuous_relationship(data, continuous_features, y_col)\n",
    "\n",
    "    show_categorical_relationship(data, categorical_features, y_col)"
   ]
  },
  {
   "cell_type": "code",
   "execution_count": 22,
   "id": "a1dc50e1",
   "metadata": {
    "lines_to_next_cell": 1
   },
   "outputs": [],
   "source": [
    "def main():\n",
    "    data = utils.pandas_load_csv(\"output_data.csv\")\n",
    "\n",
    "    #Plot the relationship between the specified features and veracity\n",
    "    continuous_features_to_analyze = ['age', 'time_to_transfer_window', 'market_value']\n",
    "    categorical_features_to_analyze = ['nationality', 'position', 'source']\n",
    "    visualize_and_analyze(data, continuous_features_to_analyze, categorical_features_to_analyze, 'veracity')"
   ]
  },
  {
   "cell_type": "code",
   "execution_count": 23,
   "id": "a2cfa91c",
   "metadata": {},
   "outputs": [
    {
     "name": "stdout",
     "output_type": "stream",
     "text": [
      "Boxplot statistics for age vs. veracity:\n",
      "\n",
      "           count       mean       std   min   25%   50%   75%   max\n",
      "veracity                                                           \n",
      "0         1938.0  26.196594  4.106362  17.0  23.0  26.0  29.0  37.0\n",
      "1          542.0  25.350554  4.477381  18.0  22.0  24.0  28.0  36.0\n",
      "The correlation of -0.0831863667829644 indicates negative relationship between age and veracity is weak.\n",
      "The P-value is less than 0.05, which suggests that there is a statistically significant relationship between the two variables.\n",
      "Boxplot statistics for time_to_transfer_window vs. veracity:\n",
      "\n",
      "           count       mean        std  min   25%   50%   75%    max\n",
      "veracity                                                            \n",
      "0         1401.0  62.381156  44.593373  0.0  25.0  55.0  92.0  157.0\n",
      "1          431.0  52.832947  42.006422  0.0  19.0  43.0  74.0  157.0\n",
      "The correlation of -0.09170915728953069 indicates negative relationship between time_to_transfer_window and veracity is weak.\n",
      "The P-value is less than 0.05, which suggests that there is a statistically significant relationship between the two variables.\n",
      "Boxplot statistics for market_value vs. veracity:\n",
      "\n",
      "           count          mean           std       min         25%  \\\n",
      "veracity                                                             \n",
      "0         1597.0  2.958741e+07  3.728014e+07  100000.0  11000000.0   \n",
      "1          520.0  3.038990e+07  3.153244e+07  350000.0  12000000.0   \n",
      "\n",
      "                 50%         75%          max  \n",
      "veracity                                       \n",
      "0         17000000.0  32000000.0  170000000.0  \n",
      "1         22000000.0  40000000.0  170000000.0  \n",
      "The correlation of 0.00961170015439843 indicates positive relationship between market_value and veracity is weak.\n",
      "The P-value is greater than 0.05, which suggests that there is no statistically significant relationship between the two variables.\n",
      "Relationship summary between nationality and veracity:\n",
      "               Count  Percentage of true rumours\n",
      "Albania           10                       40.00\n",
      "France           199                       32.66\n",
      "Argentina         43                       30.23\n",
      "Belgium           61                       27.87\n",
      "Gabon             16                       25.00\n",
      "Netherlands       69                       24.64\n",
      "Germany           54                       24.07\n",
      "Japan             13                       23.08\n",
      "Spain            174                       21.84\n",
      "Italy             34                       20.59\n",
      "Portugal         136                       19.12\n",
      "Croatia           16                       18.75\n",
      "Sweden            28                       17.86\n",
      "Denmark           36                       16.67\n",
      "Nigeria           13                       15.38\n",
      "Norway           139                       14.39\n",
      "Uruguay           31                       12.90\n",
      "England          406                       12.56\n",
      "Morocco           16                       12.50\n",
      "Brazil           185                       10.81\n",
      "Wales             11                        9.09\n",
      "Senegal           35                        8.57\n",
      "Côte d'Ivoire     23                        4.35\n",
      "Relationship summary between position and veracity:\n",
      "            Count  Percentage of true rumours\n",
      "Defender      623                       28.25\n",
      "Goalkeeper    108                       23.15\n",
      "Attacker      986                       22.92\n",
      "Midfielder    763                       15.07\n",
      "Relationship summary between source and veracity:\n",
      "                                 Count  Percentage of true rumours\n",
      "www.chroniclelive.co.uk             17                       41.18\n",
      "www.expressandstar.com              10                       40.00\n",
      "talksport.com                       29                       37.93\n",
      "www.independent.co.uk               16                       37.50\n",
      "theathletic.com                     77                       36.36\n",
      "www.leicestermercury.co.uk          14                       35.71\n",
      "www.goal.com                        79                       32.91\n",
      "www.football.london                 35                       31.43\n",
      "www.espn.com                        13                       30.77\n",
      "www.skysports.com                   96                       30.21\n",
      "twitter.com                         53                       30.19\n",
      "sportwitness.co.uk                  20                       30.00\n",
      "www.theguardian.com                 37                       29.73\n",
      "www.manchestereveningnews.co.uk     48                       29.17\n",
      "football-italia.net                 14                       28.57\n",
      "www.thetimes.co.uk                  30                       26.67\n",
      "www.express.co.uk                  110                       26.36\n",
      "www.tuttosport.com                  19                       26.32\n",
      "metro.co.uk                         31                       25.81\n",
      "www.telegraph.co.uk                 67                       25.37\n",
      "www.birminghammail.co.uk            16                       25.00\n",
      "www.marca.com                       49                       24.49\n",
      "www.dailymail.co.uk                205                       24.39\n",
      "www.standard.co.uk                  34                       20.59\n",
      "www.calciomercato.it                10                       20.00\n",
      "le10sport.com                       10                       20.00\n",
      "www.gazzetta.it                     20                       20.00\n",
      "www.90min.com                       62                       19.35\n",
      "www.dailystar.co.uk                 86                       18.60\n",
      "www.lequipe.fr                      11                       18.18\n",
      "www.calciomercato.com               55                       18.18\n",
      "www.mirror.co.uk                   171                       18.13\n",
      "www.liverpoolecho.co.uk             28                       17.86\n",
      "www.corrieredellosport.it           17                       17.65\n",
      "www.mundodeportivo.com              47                       17.02\n",
      "www.fourfourtwo.com                 12                       16.67\n",
      "en.as.com                           12                       16.67\n",
      "www.footballinsider247.com         150                       16.00\n",
      "www.thesun.co.uk                   196                       15.31\n",
      "www.eurosport.co.uk                 14                       14.29\n",
      "www.sport.es                        42                       14.29\n",
      "www.espn.co.uk                      31                       12.90\n",
      "www.tuttomercatoweb.com             10                       10.00\n",
      "www.footmercato.net                 12                        8.33\n",
      "www.teamtalk.com                    37                        8.11\n",
      "www.elnacional.cat                  25                        8.00\n",
      "as.com                              31                        6.45\n",
      "www.fichajes.net                    24                        4.17\n"
     ]
    },
    {
     "data": {
      "image/png": "[encoded data removed]",
      "text/plain": [
       "<Figure size 1200x1400 with 1 Axes>"
      ]
     },
     "metadata": {},
     "output_type": "display_data"
    }
   ],
   "source": [
    "if __name__ == '__main__':\n",
    "    main()"
   ]
  },
  {
   "cell_type": "code",
   "execution_count": null,
   "id": "8bff3f27",
   "metadata": {},
   "outputs": [],
   "source": []
  },
  {
   "cell_type": "code",
   "execution_count": null,
   "id": "35aba4fe",
   "metadata": {},
   "outputs": [],
   "source": []
  }
 ],
 "metadata": {
  "jupytext": {
   "cell_metadata_filter": "-all",
   "main_language": "python",
   "notebook_metadata_filter": "-all"
  },
  "kernelspec": {
   "display_name": "Python 3 (ipykernel)",
   "language": "python",
   "name": "python3"
  },
  "language_info": {
   "codemirror_mode": {
    "name": "ipython",
    "version": 3
   },
   "file_extension": ".py",
   "mimetype": "text/x-python",
   "name": "python",
   "nbconvert_exporter": "python",
   "pygments_lexer": "ipython3",
   "version": "3.10.9"
  }
 },
 "nbformat": 4,
 "nbformat_minor": 5
}
