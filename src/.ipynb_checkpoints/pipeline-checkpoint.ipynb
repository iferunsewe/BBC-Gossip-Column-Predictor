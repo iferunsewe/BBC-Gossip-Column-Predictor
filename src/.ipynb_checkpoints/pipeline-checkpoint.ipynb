{
 "cells": [
  {
   "cell_type": "code",
   "execution_count": 1,
   "id": "51e740aa",
   "metadata": {
    "lines_to_next_cell": 1
   },
   "outputs": [],
   "source": [
    "from data_structuring import structure_data\n",
    "from data_preprocessing import preprocess_data\n",
    "from data_wrangling import wrangle_data\n",
    "from model_training import train_and_evaluate_models\n",
    "from visualization_and_analysis import visualize_and_analyze\n",
    "from data_collecting import collect_data\n",
    "import utils\n",
    "import time"
   ]
  },
  {
   "cell_type": "code",
   "execution_count": 2,
   "id": "96f42ddd",
   "metadata": {
    "lines_to_next_cell": 1
   },
   "outputs": [],
   "source": [
    "def main():\n",
    "    while True:\n",
    "        print(\"Choose an option:\")\n",
    "        print(\"1. Run all steps.\")\n",
    "        print(\"2. Run steps interactively.\")\n",
    "        print(\"3. Run only one step.\")\n",
    "        print(\"4. Exit.\")\n",
    "        choice = int(input(\"Enter the option number: \"))\n",
    "\n",
    "        if choice == 1:\n",
    "            run_all_steps()\n",
    "        elif choice == 2:\n",
    "            run_steps_interactively()\n",
    "        elif choice == 3:\n",
    "            run_single_step()\n",
    "        elif choice == 4:\n",
    "            break\n",
    "        else:\n",
    "            print(\"Invalid input. Please try again.\")"
   ]
  },
  {
   "cell_type": "code",
   "execution_count": 3,
   "id": "4c39dcf3",
   "metadata": {
    "lines_to_next_cell": 1
   },
   "outputs": [],
   "source": [
    "def run_all_steps():\n",
    "    steps = [collect_data, structure_data_step, preprocess_data_step, wrangle_data_step, train_and_evaluate_models_step, visualize_and_analyze_step]\n",
    "\n",
    "    for step in steps:\n",
    "        step()"
   ]
  },
  {
   "cell_type": "code",
   "execution_count": 4,
   "id": "6edf3420",
   "metadata": {
    "lines_to_next_cell": 1
   },
   "outputs": [],
   "source": [
    "def run_steps_interactively():\n",
    "    steps = [collect_data, structure_data_step, preprocess_data_step, wrangle_data_step, train_and_evaluate_models_step, visualize_and_analyze_step]\n",
    "\n",
    "    for step in steps:\n",
    "        answer = input(f\"Do you want to run the step '{step.__name__}'? (y/n): \")\n",
    "        if answer.lower() == 'y':\n",
    "            step()"
   ]
  },
  {
   "cell_type": "code",
   "execution_count": 5,
   "id": "60c9cf2b",
   "metadata": {
    "lines_to_next_cell": 1
   },
   "outputs": [],
   "source": [
    "def run_single_step():\n",
    "    step_mapping = {\n",
    "        1: collect_data,\n",
    "        2: structure_data_step,\n",
    "        3: preprocess_data_step,\n",
    "        4: wrangle_data_step,\n",
    "        5: train_and_evaluate_models_step,\n",
    "        6: visualize_and_analyze_step\n",
    "    }\n",
    "\n",
    "    print(\"Choose a step to run:\")\n",
    "    for idx, step in step_mapping.items():\n",
    "        print(f\"{idx}. {step.__name__}\")\n",
    "\n",
    "    choice = int(input(\"Enter the step number: \"))\n",
    "    step_mapping[choice]()"
   ]
  },
  {
   "cell_type": "code",
   "execution_count": 6,
   "id": "7c218293",
   "metadata": {
    "lines_to_next_cell": 1
   },
   "outputs": [],
   "source": [
    "def structure_data_step():\n",
    "    structure_data(\"transfer_news_data.csv\")"
   ]
  },
  {
   "cell_type": "code",
   "execution_count": 7,
   "id": "364c6eda",
   "metadata": {
    "lines_to_next_cell": 1
   },
   "outputs": [],
   "source": [
    "def preprocess_data_step():\n",
    "    structured_data_rows = utils.pandas_load_csv(\"structured_data.csv\")\n",
    "    transfer_news_data = utils.pandas_load_csv(\"transfer_news_data.csv\")\n",
    "    football_api_players = utils.pandas_load_csv(\"football_api_players.csv\")\n",
    "    transfermarkt_data = utils.pandas_load_csv(\"transfermarkt_data.csv\")\n",
    "\n",
    "    preprocess_data(structured_data_rows, transfer_news_data, football_api_players, transfermarkt_data)"
   ]
  },
  {
   "cell_type": "code",
   "execution_count": 8,
   "id": "74020073",
   "metadata": {
    "lines_to_next_cell": 1
   },
   "outputs": [],
   "source": [
    "def wrangle_data_step():\n",
    "    preprocessed_data = utils.pandas_load_csv(\"preprocessed_data.csv\")\n",
    "    transfermarkt_data = utils.pandas_load_csv(\"transfermarkt_data.csv\")\n",
    "\n",
    "    wrangle_data(preprocessed_data, transfermarkt_data)"
   ]
  },
  {
   "cell_type": "code",
   "execution_count": 9,
   "id": "886075ce",
   "metadata": {
    "lines_to_next_cell": 1
   },
   "outputs": [],
   "source": [
    "def train_and_evaluate_models_step():\n",
    "    output_data = utils.pandas_load_csv(\"output_data.csv\")\n",
    "    train_and_evaluate_models(output_data)"
   ]
  },
  {
   "cell_type": "code",
   "execution_count": 10,
   "id": "a93817e0",
   "metadata": {
    "lines_to_next_cell": 1
   },
   "outputs": [],
   "source": [
    "def visualize_and_analyze_step():\n",
    "    data = utils.pandas_load_csv(\"output_data.csv\")\n",
    "\n",
    "    continuous_features_to_analyze = ['age', 'time_to_transfer_window', 'market_value']\n",
    "    categorical_features_to_analyze = ['nationality', 'position', 'source']\n",
    "    visualize_and_analyze(data, continuous_features_to_analyze, categorical_features_to_analyze, 'veracity')"
   ]
  },
  {
   "cell_type": "code",
   "execution_count": null,
   "id": "74f30344",
   "metadata": {},
   "outputs": [
    {
     "name": "stdout",
     "output_type": "stream",
     "text": [
      "Choose an option:\n",
      "1. Run all steps.\n",
      "2. Run steps interactively.\n",
      "3. Run only one step.\n",
      "4. Exit.\n",
      "Enter the option number: 1\n",
      "Checking GOOGLE_API_KEY...\n",
      "Checking CX_ID...\n",
      "Creating transfer_rumours_articles.csv...\n",
      "transfer_rumours_articles.csv already exists\n",
      "1. Use last date in transfer_rumours_articles.csv 2. Enter a start date in the format YYYY-MM-DD\n",
      "> 2\n",
      "> 2022-01-01\n",
      "Enter the end date in the format YYYY-MM-DD\n",
      "> 2022-01-02\n",
      "Searching for articles published on 1 January 2022...\n",
      "Article found: https://www.bbc.com/sport/59840889\n",
      "Sleeping for 22 seconds...\n"
     ]
    }
   ],
   "source": [
    "if __name__ == \"__main__\":\n",
    "    start_time = time.time()\n",
    "\n",
    "    main()\n",
    "\n",
    "    end_time = time.time()\n",
    "    elapsed_time = end_time - start_time\n",
    "    hours, remainder = divmod(elapsed_time, 3600)\n",
    "    minutes, seconds = divmod(remainder, 60)\n",
    "    print(f\"Elapsed time: {int(hours)} hours, {int(minutes)} minutes, and {seconds:.2f} seconds\")  "
   ]
  },
  {
   "cell_type": "code",
   "execution_count": null,
   "id": "21206be8",
   "metadata": {},
   "outputs": [],
   "source": []
  }
 ],
 "metadata": {
  "jupytext": {
   "cell_metadata_filter": "-all",
   "main_language": "python",
   "notebook_metadata_filter": "-all"
  },
  "kernelspec": {
   "display_name": "Python 3 (ipykernel)",
   "language": "python",
   "name": "python3"
  },
  "language_info": {
   "codemirror_mode": {
    "name": "ipython",
    "version": 3
   },
   "file_extension": ".py",
   "mimetype": "text/x-python",
   "name": "python",
   "nbconvert_exporter": "python",
   "pygments_lexer": "ipython3",
   "version": "3.10.9"
  }
 },
 "nbformat": 4,
 "nbformat_minor": 5
}
