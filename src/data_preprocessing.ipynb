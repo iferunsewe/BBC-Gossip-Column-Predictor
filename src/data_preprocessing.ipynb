{
 "cells": [
  {
   "cell_type": "code",
   "execution_count": null,
   "id": "e20098bf",
   "metadata": {},
   "outputs": [],
   "source": [
    "import re\n",
    "import datetime\n",
    "import pandas as pd\n",
    "from thefuzz import process\n",
    "import locationtagger\n",
    "import numpy as np\n",
    "from sklearn.preprocessing import MultiLabelBinarizer, OneHotEncoder\n",
    "import utils"
   ]
  },
  {
   "cell_type": "code",
   "execution_count": null,
   "id": "436a735f",
   "metadata": {},
   "outputs": [],
   "source": [
    "POSITION_MAPPING = {\n",
    "    \"Goalkeeper\": \"Goalkeeper\",\n",
    "    \"Centre-Back\": \"Defender\",\n",
    "    \"Left-Back\": \"Defender\",\n",
    "    \"Right-Back\": \"Defender\",\n",
    "    \"Defender\": \"Defender\",\n",
    "    \"Defensive Midfield\": \"Midfielder\",\n",
    "    \"Central Midfield\": \"Midfielder\",\n",
    "    \"Attacking Midfield\": \"Midfielder\",\n",
    "    \"Left Midfield\": \"Midfielder\",\n",
    "    \"Right Midfield\": \"Midfielder\",\n",
    "    \"Midfielder\": \"Midfielder\",\n",
    "    \"Playmaker\": \"Midfielder\",\n",
    "    \"Centre-Forward\": \"Attacker\",\n",
    "    \"Left Winger\": \"Attacker\",\n",
    "    \"Right Winger\": \"Attacker\",\n",
    "    \"Second Striker\": \"Attacker\",\n",
    "    \"Winger\": \"Attacker\",\n",
    "    \"Striker\": \"Attacker\",\n",
    "    \"Forward\": \"Attacker\",\n",
    "}"
   ]
  },
  {
   "cell_type": "code",
   "execution_count": null,
   "id": "9eedb408",
   "metadata": {
    "lines_to_next_cell": 1
   },
   "outputs": [],
   "source": [
    "CLUB_MAPPING = {\n",
    "    # All the clubs above 50 and below my threshold of 75 in the fuzzy matching score so they were pointed out automatically\n",
    "    'West Brom': 'West Bromwich Albion',\n",
    "    'Newcastle': 'Newcastle United',\n",
    "    'West Ham': 'West Ham United',\n",
    "    'Tottenham': 'Tottenham Hotspur',\n",
    "    'Spurs': 'Tottenham Hotspur',\n",
    "    'Blackburn': 'Blackburn Rovers',\n",
    "    'Nice': 'OGC Nice',\n",
    "    'Roma': 'AS Roma',\n",
    "    'Lille': 'LOSC Lille',\n",
    "    'Leeds': 'Leeds United',\n",
    "    'Brighton': 'Brighton & Hove Albion',\n",
    "    'Norwich': 'Norwich City',\n",
    "    'Schalke': 'FC Schalke 04',\n",
    "    'Sevilla': 'Sevilla FC',\n",
    "    'Inter': 'Inter Milan',\n",
    "    'Naples': 'SSC Napoli',\n",
    "    'Barca': 'Barcelona',\n",
    "    'United': 'Manchester United',\n",
    "    'Stoke': 'Stoke City',\n",
    "    'Atletico': 'Atlético Madrid',\n",
    "    'City': 'Manchester City',\n",
    "    'Hertha': 'Hertha Berlin',\n",
    "    'Metz': 'FC Metz',\n",
    "    'The Hammers': 'West Ham United',\n",
    "    'Genk': 'KRC Genk',\n",
    "    'Mainz': '1.FSV Mainz 05',\n",
    "    'Eupen': 'KAS Eupen',\n",
    "    'New England Revolution': 'New England',\n",
    "    # All the clubs that would not be found would be below 50 in the fuzzy matching score so I manually mapped them\n",
    "    'Gunners': 'Arsenal FC',\n",
    "    'Cherries': 'AFC Bournemouth',\n",
    "    'Reds': 'Liverpool FC',\n",
    "    'Blues': 'Chelsea FC',\n",
    "    'Saints': 'Southampton FC',\n",
    "    'Seagulls': 'Brighton & Hove Albion',\n",
    "    'Canaries': 'Norwich City',\n",
    "    'Magpies': 'Newcastle United',\n",
    "    'Villans': 'Aston Villa',\n",
    "    'Eagles': 'Crystal Palace',\n",
    "    'Cottagers': 'Fulham FC',\n",
    "    'Hornets': 'Watford FC',\n",
    "}"
   ]
  },
  {
   "cell_type": "code",
   "execution_count": null,
   "id": "2b3c1ea7",
   "metadata": {
    "lines_to_next_cell": 1
   },
   "outputs": [],
   "source": [
    "def is_actual_player(player_name, football_api_players, transfermarkt_data):\n",
    "    print(f\"Checking if {player_name} is an actual player...\")\n",
    "    all_names = set(football_api_players['full_name'].tolist() + football_api_players['name'].tolist() + transfermarkt_data['player_name'].tolist())\n",
    "\n",
    "    if get_best_fuzzy_match(player_name, all_names) is None:\n",
    "        return False\n",
    "    else:\n",
    "        return True"
   ]
  },
  {
   "cell_type": "code",
   "execution_count": null,
   "id": "2041883f",
   "metadata": {
    "lines_to_next_cell": 1
   },
   "outputs": [],
   "source": [
    "def get_best_fuzzy_match(player_name, names_list):\n",
    "    match, score = process.extractOne(player_name, names_list)\n",
    "    if score >= 90:\n",
    "        print(f\"Found match: {match} (score: {score})\")\n",
    "        return match\n",
    "    else:\n",
    "        return None"
   ]
  },
  {
   "cell_type": "code",
   "execution_count": null,
   "id": "43d7dd21",
   "metadata": {
    "lines_to_next_cell": 1
   },
   "outputs": [],
   "source": [
    "def get_transfermarkt_row(player_name, transfermarkt_data):\n",
    "    player_names = transfermarkt_data['player_name'].tolist()\n",
    "    best_match = get_best_fuzzy_match(player_name, player_names)\n",
    "\n",
    "    if best_match:\n",
    "        transfermarkt_row = transfermarkt_data.loc[transfermarkt_data['player_name'] == best_match]\n",
    "    else:\n",
    "        transfermarkt_row = pd.DataFrame()\n",
    "\n",
    "    return transfermarkt_row"
   ]
  },
  {
   "cell_type": "code",
   "execution_count": null,
   "id": "c1a0bb4b",
   "metadata": {
    "lines_to_next_cell": 1
   },
   "outputs": [],
   "source": [
    "def get_api_row(player_name, football_api_players):\n",
    "    full_names = football_api_players['full_name'].tolist()\n",
    "    short_names = football_api_players['name'].tolist() \n",
    "\n",
    "    best_full_name_match = get_best_fuzzy_match(player_name, full_names)\n",
    "    best_short_name_match = get_best_fuzzy_match(player_name, short_names)\n",
    "\n",
    "    if best_full_name_match:\n",
    "        api_row = football_api_players.loc[football_api_players['full_name'] == best_full_name_match]\n",
    "    elif best_short_name_match:\n",
    "        api_row = football_api_players.loc[football_api_players['name'] == best_short_name_match]\n",
    "    else:\n",
    "        api_row = pd.DataFrame()\n",
    "\n",
    "    return api_row"
   ]
  },
  {
   "cell_type": "code",
   "execution_count": null,
   "id": "0bc36628",
   "metadata": {
    "lines_to_next_cell": 1
   },
   "outputs": [],
   "source": [
    "def map_to_football_api_position(position):\n",
    "    return POSITION_MAPPING.get(position, \"Unknown\")"
   ]
  },
  {
   "cell_type": "code",
   "execution_count": null,
   "id": "b47ea524",
   "metadata": {
    "lines_to_next_cell": 1
   },
   "outputs": [],
   "source": [
    "def get_transfermarkt_data(player_name, transfermarkt_data):\n",
    "    transfermarkt_row = get_transfermarkt_row(player_name, transfermarkt_data)\n",
    "    \n",
    "    if transfermarkt_row.empty:\n",
    "        print(f\"{player_name} not found in Transfermarkt dataset\")\n",
    "        return None\n",
    "\n",
    "    player_data = {\n",
    "        'age': transfermarkt_row['player_age'].values[0],\n",
    "        'position': map_to_football_api_position(transfermarkt_row['player_position'].values[0]),\n",
    "        'market_value': transfermarkt_row['market_value'].values[0]\n",
    "    }\n",
    "    print(f\"Found {player_name} in Transfermarkt dataset: {player_data}\")\n",
    "\n",
    "    return player_data"
   ]
  },
  {
   "cell_type": "code",
   "execution_count": null,
   "id": "a6f7f4a2",
   "metadata": {
    "lines_to_next_cell": 1
   },
   "outputs": [],
   "source": [
    "def get_api_data(player_name, football_api_players):\n",
    "    api_row = get_api_row(player_name, football_api_players)\n",
    "\n",
    "    if api_row.empty:\n",
    "        print(f\"{player_name} not found in Football API dataset\")\n",
    "        return None\n",
    "\n",
    "    player_data = {\n",
    "        'age': api_row['age'].values[0],\n",
    "        'position': api_row['position'].values[0],\n",
    "        'nationality': api_row['nationality'].values[0]\n",
    "    }\n",
    "    print(f\"Found {player_name} in Football API dataset: {player_data}\")\n",
    "\n",
    "    return player_data"
   ]
  },
  {
   "cell_type": "code",
   "execution_count": null,
   "id": "d99793b6",
   "metadata": {
    "lines_to_next_cell": 1
   },
   "outputs": [],
   "source": [
    "def merge_player_data(transfermarkt_data, api_data):\n",
    "    merged_data = {}\n",
    "\n",
    "    for key in ['age', 'position', 'market_value', 'nationality']:\n",
    "        merged_data[key] = transfermarkt_data.get(key) or api_data.get(key)\n",
    "\n",
    "    return merged_data"
   ]
  },
  {
   "cell_type": "code",
   "execution_count": null,
   "id": "e2a8499e",
   "metadata": {
    "lines_to_next_cell": 1
   },
   "outputs": [],
   "source": [
    "def get_player_data(player_name, transfermarkt_data, football_api_players):\n",
    "    transfermarkt_player_data = get_transfermarkt_data(player_name, transfermarkt_data)\n",
    "    api_player_data = get_api_data(player_name, football_api_players)\n",
    "\n",
    "    if transfermarkt_player_data is None and api_player_data is None:\n",
    "        print(f\"Could not find {player_name} in any dataset...\")\n",
    "        return None\n",
    "\n",
    "    player_data = merge_player_data(transfermarkt_player_data or {}, api_player_data or {})\n",
    "    print(f\"Final player data: {player_data}\")\n",
    "\n",
    "    return player_data"
   ]
  },
  {
   "cell_type": "code",
   "execution_count": null,
   "id": "6f0bd62e",
   "metadata": {
    "lines_to_next_cell": 1
   },
   "outputs": [],
   "source": [
    "def find_age_in_text(text):\n",
    "    print(f\"Finding age in text: {text}\")\n",
    "    # Match patterns like \"27-year-old\" or \"27 year old\"\n",
    "    pattern1 = r\"(\\d{1,2})[-\\s]?year[-\\s]?old\"\n",
    "    matches1 = re.findall(pattern1, text)\n",
    "    \n",
    "    if matches1:\n",
    "        return int(matches1[0])\n",
    "\n",
    "    # Match patterns like \", 27,\" or \", 27.\"\n",
    "    pattern2 = r\"[A-Za-z\\s]+, (\\d{1,2})[.,]\"\n",
    "    matches2 = re.findall(pattern2, text)\n",
    "    \n",
    "    if matches2:\n",
    "        return int(matches2[0])\n",
    "\n",
    "    return None"
   ]
  },
  {
   "cell_type": "code",
   "execution_count": null,
   "id": "b0083f4b",
   "metadata": {
    "lines_to_next_cell": 1
   },
   "outputs": [],
   "source": [
    "def find_nationality_in_text(raw_text):\n",
    "    print(f\"Finding nationality in text: {raw_text}\")\n",
    "    entities = locationtagger.find_locations(text=raw_text)\n",
    "    countries = entities.countries\n",
    "\n",
    "    if len(countries) == 1:\n",
    "        return countries[0]\n",
    "    else:\n",
    "        return None"
   ]
  },
  {
   "cell_type": "code",
   "execution_count": null,
   "id": "555e4cb7",
   "metadata": {
    "lines_to_next_cell": 1
   },
   "outputs": [],
   "source": [
    "def find_position_in_text(raw_text):\n",
    "    print(f\"Finding position in text: {raw_text}\")\n",
    "    positions = list(POSITION_MAPPING.keys())\n",
    "    raw_text_lower = raw_text.lower()\n",
    "\n",
    "    for position in positions:\n",
    "        if position.lower() in raw_text_lower:\n",
    "            return map_to_football_api_position(position)\n",
    "    return None"
   ]
  },
  {
   "cell_type": "code",
   "execution_count": null,
   "id": "e49950a7",
   "metadata": {
    "lines_to_next_cell": 1
   },
   "outputs": [],
   "source": [
    "def days_to_next_transfer_window(date_str):\n",
    "    date = datetime.datetime.strptime(date_str, \"%d %B %Y\")\n",
    "    year = date.year\n",
    "    days_to_next = None\n",
    "\n",
    "    transfer_windows = [\n",
    "        datetime.datetime(year, 1, 1),\n",
    "        datetime.datetime(year, 1, 2),\n",
    "        datetime.datetime(year, 6, 9),\n",
    "        datetime.datetime(year, 8, 31),\n",
    "    ]\n",
    "\n",
    "    for i in range(len(transfer_windows) - 1):\n",
    "        if transfer_windows[i] <= date <= transfer_windows[i + 1]:\n",
    "            days_to_next = (transfer_windows[i + 1] - date).days\n",
    "            break\n",
    "\n",
    "    return days_to_next"
   ]
  },
  {
   "cell_type": "code",
   "execution_count": null,
   "id": "154be489",
   "metadata": {
    "lines_to_next_cell": 1
   },
   "outputs": [],
   "source": [
    "# Clean market_value column by converting to numerical values\n",
    "def clean_market_value(value):\n",
    "    if pd.isna(value) or value == '-':\n",
    "        return np.nan\n",
    "\n",
    "    value = value.replace('€', '')\n",
    "    if 'm' in value:\n",
    "        value = float(value.replace('m', '')) * 1_000_000\n",
    "    elif 'k' in value:\n",
    "        value = float(value.replace('k', '')) * 1_000\n",
    "    return value"
   ]
  },
  {
   "cell_type": "code",
   "execution_count": null,
   "id": "f5e8e761",
   "metadata": {
    "lines_to_next_cell": 1
   },
   "outputs": [],
   "source": [
    "# Convert clubs_mentioned column to a list of clubs and map to transfermarkt names\n",
    "def convert_clubs_mentioned(data):\n",
    "    data = data.copy()\n",
    "    data.loc[:, 'clubs_mentioned'] = data['clubs_mentioned'].apply(\n",
    "        lambda x: eval(x) if x.startswith('[') else x.split(', '))\n",
    "    data.loc[:, 'clubs_mentioned'] = data['clubs_mentioned'].apply(\n",
    "        lambda clubs: [CLUB_MAPPING.get(club, club) for club in clubs])\n",
    "    return data"
   ]
  },
  {
   "cell_type": "code",
   "execution_count": null,
   "id": "95501fbc",
   "metadata": {
    "lines_to_next_cell": 1
   },
   "outputs": [],
   "source": [
    "# One-hot encode categorical columns\n",
    "def encode_columns(data, columns_to_encode):\n",
    "    encoded_data = []\n",
    "    for col in columns_to_encode:\n",
    "        if col == 'clubs_mentioned':\n",
    "            mlb = MultiLabelBinarizer()\n",
    "            encoded = mlb.fit_transform(data[col])\n",
    "            encoded_df = pd.DataFrame(encoded, columns=mlb.classes_)\n",
    "        else:\n",
    "            ohe = OneHotEncoder(sparse_output=False)\n",
    "            encoded = ohe.fit_transform(data[[col]])\n",
    "            encoded_df = pd.DataFrame(encoded, columns=ohe.get_feature_names_out([col]))\n",
    "        \n",
    "        encoded_data.append(encoded_df)\n",
    "    return encoded_data"
   ]
  },
  {
   "cell_type": "code",
   "execution_count": null,
   "id": "2a918a10",
   "metadata": {
    "lines_to_next_cell": 1
   },
   "outputs": [],
   "source": [
    "# Concatenate original data with encoded columns\n",
    "def concat_encoded_data(data, encoded_data):\n",
    "    data.reset_index(drop=True, inplace=True)\n",
    "    data_encoded = pd.concat([data] + encoded_data, axis=1)\n",
    "    return data_encoded"
   ]
  },
  {
   "cell_type": "code",
   "execution_count": null,
   "id": "fc2975a3",
   "metadata": {
    "lines_to_next_cell": 1
   },
   "outputs": [],
   "source": [
    "def filter_actual_players(input_rows, football_api_players, transfermarkt_data):\n",
    "    input_rows['is_actual_player'] = input_rows['player_name'].apply(lambda x: is_actual_player(x, football_api_players, transfermarkt_data))\n",
    "    return input_rows[input_rows['is_actual_player'] & (input_rows['clubs_mentioned'].str.count(',') >= 1)].drop(columns=['is_actual_player'])"
   ]
  },
  {
   "cell_type": "code",
   "execution_count": null,
   "id": "f079aec1",
   "metadata": {
    "lines_to_next_cell": 1
   },
   "outputs": [],
   "source": [
    "def add_player_data(preprocessed_data, transfermarkt_data, football_api_players):\n",
    "    player_data_dicts = [x for x in preprocessed_data['player_name'].apply(lambda x: get_player_data(x, transfermarkt_data, football_api_players)).tolist() if x is not None]\n",
    "    player_data_df = pd.DataFrame(player_data_dicts)\n",
    "    preprocessed_data.reset_index(drop=True, inplace=True)\n",
    "    return pd.concat([preprocessed_data, player_data_df], axis=1)"
   ]
  },
  {
   "cell_type": "code",
   "execution_count": null,
   "id": "a210d500",
   "metadata": {
    "lines_to_next_cell": 1
   },
   "outputs": [],
   "source": [
    "def update_missing_data(preprocessed_data):\n",
    "    preprocessed_data['age'] = preprocessed_data.apply(lambda row: row['age'] if not pd.isnull(row['age']) else find_age_in_text(row['raw_text']), axis=1)\n",
    "    preprocessed_data['nationality'] = preprocessed_data.apply(lambda row: row['nationality'] if not pd.isnull(row['nationality']) else find_nationality_in_text(row['raw_text']), axis=1)\n",
    "    preprocessed_data['position'] = preprocessed_data.apply(lambda row: row['position'] if not pd.isnull(row['position']) else find_position_in_text(row['raw_text']), axis=1)\n",
    "    return preprocessed_data"
   ]
  },
  {
   "cell_type": "code",
   "execution_count": null,
   "id": "a4e9337a",
   "metadata": {
    "lines_to_next_cell": 1
   },
   "outputs": [],
   "source": [
    "def calculate_days_to_transfer_window(preprocessed_data):\n",
    "    preprocessed_data['time_to_transfer_window'] = preprocessed_data['date'].apply(days_to_next_transfer_window)\n",
    "    return preprocessed_data"
   ]
  },
  {
   "cell_type": "code",
   "execution_count": null,
   "id": "87308345",
   "metadata": {
    "lines_to_next_cell": 1
   },
   "outputs": [],
   "source": [
    "def clean_market_values(preprocessed_data):\n",
    "    preprocessed_data['market_value'] = preprocessed_data['market_value'].apply(clean_market_value)\n",
    "    return preprocessed_data"
   ]
  },
  {
   "cell_type": "code",
   "execution_count": null,
   "id": "0786bd8f",
   "metadata": {
    "lines_to_next_cell": 1
   },
   "outputs": [],
   "source": [
    "def merge_with_transfer_news_data(preprocessed_data, transfer_news_data):\n",
    "    return preprocessed_data.merge(transfer_news_data[['id', 'source']], on='id', how='left')"
   ]
  },
  {
   "cell_type": "code",
   "execution_count": null,
   "id": "d007393a",
   "metadata": {
    "lines_to_next_cell": 1
   },
   "outputs": [],
   "source": [
    "def encode_and_concat_columns(preprocessed_data, columns_to_encode):\n",
    "    encoded_data = encode_columns(preprocessed_data, columns_to_encode)\n",
    "    return concat_encoded_data(preprocessed_data, encoded_data)"
   ]
  },
  {
   "cell_type": "code",
   "execution_count": null,
   "id": "2649c67a",
   "metadata": {
    "lines_to_next_cell": 1
   },
   "outputs": [],
   "source": [
    "def preprocess_data(input_rows, transfer_news_data, football_api_players, transfermarkt_data):\n",
    "    print(\"Preprocessing dataset...\")\n",
    "\n",
    "    preprocessed_data = filter_actual_players(input_rows, football_api_players, transfermarkt_data)\n",
    "    preprocessed_data = add_player_data(preprocessed_data, transfermarkt_data, football_api_players)\n",
    "    preprocessed_data = update_missing_data(preprocessed_data)\n",
    "    preprocessed_data = calculate_days_to_transfer_window(preprocessed_data)\n",
    "    preprocessed_data = clean_market_values(preprocessed_data)\n",
    "    preprocessed_data = merge_with_transfer_news_data(preprocessed_data, transfer_news_data)\n",
    "    preprocessed_data = convert_clubs_mentioned(preprocessed_data)\n",
    "    columns_to_encode = ['clubs_mentioned', 'nationality', 'position', 'source']\n",
    "    preprocessed_data = encode_and_concat_columns(preprocessed_data, columns_to_encode)\n",
    "\n",
    "    output_path_filename = utils.get_data_file_path(\"preprocessed_data.csv\")\n",
    "    preprocessed_data.to_csv(output_path_filename, index=False)\n",
    "    print(f\"Preprocessed dataset saved to {output_path_filename}\")"
   ]
  },
  {
   "cell_type": "code",
   "execution_count": null,
   "id": "e90c9380",
   "metadata": {},
   "outputs": [],
   "source": [
    "def main():\n",
    "    print(\"Loading data...\")\n",
    "    structured_data_rows = pd.read_csv(utils.get_data_file_path(\"structured_data.csv\"))\n",
    "    transfer_news_data = pd.read_csv(utils.get_data_file_path(\"transfer_news_data.csv\"))\n",
    "    football_api_players = pd.read_csv(utils.get_data_file_path(\"football_api_players.csv\"))\n",
    "    transfermarkt_data = pd.read_csv(utils.get_data_file_path(\"transfermarkt_data.csv\"))\n",
    "\n",
    "    preprocess_data(structured_data_rows, transfer_news_data, football_api_players, transfermarkt_data)"
   ]
  },
  {
   "cell_type": "code",
   "execution_count": null,
   "id": "2bb47201",
   "metadata": {},
   "outputs": [],
   "source": [
    "if __name__ == \"__main__\":    \n",
    "    main()"
   ]
  }
 ],
 "metadata": {
  "jupytext": {
   "cell_metadata_filter": "-all",
   "main_language": "python",
   "notebook_metadata_filter": "-all"
  }
 },
 "nbformat": 4,
 "nbformat_minor": 5
}
