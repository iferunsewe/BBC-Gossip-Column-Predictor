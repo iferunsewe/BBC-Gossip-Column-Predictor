{
 "cells": [
  {
   "cell_type": "code",
   "execution_count": null,
   "id": "d2ae32b8",
   "metadata": {
    "lines_to_next_cell": 1
   },
   "outputs": [],
   "source": [
    "import data_collection.bbc_transfer_rumours_scraper as bbc_scraper\n",
    "import data_collection.transfer_news_scraper as transfer_news_scraper\n",
    "import data_collection.transfermarkt_scraper as  transfermarkt_scraper\n",
    "import data_collection.football_api as football_api"
   ]
  },
  {
   "cell_type": "code",
   "execution_count": null,
   "id": "956f9084",
   "metadata": {},
   "outputs": [],
   "source": [
    "def collect_data():\n",
    "    bbc_scraper.run()\n",
    "    transfer_news_scraper.run()\n",
    "    transfermarkt_scraper.run()\n",
    "    football_api.run()"
   ]
  },
  {
   "cell_type": "code",
   "execution_count": null,
   "id": "a13071fe",
   "metadata": {
    "lines_to_next_cell": 1
   },
   "outputs": [],
   "source": [
    "def main():\n",
    "    collect_data()"
   ]
  },
  {
   "cell_type": "code",
   "execution_count": null,
   "id": "031b976f",
   "metadata": {},
   "outputs": [],
   "source": [
    "if __name__ == \"__main__\":\n",
    "    main()"
   ]
  }
 ],
 "metadata": {
  "jupytext": {
   "cell_metadata_filter": "-all",
   "main_language": "python",
   "notebook_metadata_filter": "-all"
  }
 },
 "nbformat": 4,
 "nbformat_minor": 5
}
