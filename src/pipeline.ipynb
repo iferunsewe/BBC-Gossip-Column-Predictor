{
 "cells": [
  {
   "cell_type": "code",
   "execution_count": null,
   "id": "9871b03a",
   "metadata": {
    "lines_to_next_cell": 1
   },
   "outputs": [],
   "source": [
    "from data_structuring import structure_data\n",
    "from data_preprocessing import preprocess_data\n",
    "from data_wrangling import wrangle_data\n",
    "from model_training import train_and_evaluate_models\n",
    "from visualization_and_analysis import visualize_and_analyze\n",
    "from data_collecting import collect_data\n",
    "import utils\n",
    "import time"
   ]
  },
  {
   "cell_type": "code",
   "execution_count": null,
   "id": "2e3c6b49",
   "metadata": {
    "lines_to_next_cell": 1
   },
   "outputs": [],
   "source": [
    "def main():\n",
    "    while True:\n",
    "        print(\"Choose an option:\")\n",
    "        print(\"1. Run all steps.\")\n",
    "        print(\"2. Run steps interactively.\")\n",
    "        print(\"3. Run only one step.\")\n",
    "        print(\"4. Exit.\")\n",
    "        choice = int(input(\"Enter the option number: \"))\n",
    "\n",
    "        if choice == 1:\n",
    "            run_all_steps()\n",
    "        elif choice == 2:\n",
    "            run_steps_interactively()\n",
    "        elif choice == 3:\n",
    "            run_single_step()\n",
    "        elif choice == 4:\n",
    "            break\n",
    "        else:\n",
    "            print(\"Invalid input. Please try again.\")"
   ]
  },
  {
   "cell_type": "code",
   "execution_count": null,
   "id": "38da81da",
   "metadata": {
    "lines_to_next_cell": 1
   },
   "outputs": [],
   "source": [
    "def run_all_steps():\n",
    "    steps = [collect_data_step, structure_data_step, preprocess_data_step, wrangle_data_step, train_and_evaluate_models_step, visualize_and_analyze_step]\n",
    "\n",
    "    for step in steps:\n",
    "        step()"
   ]
  },
  {
   "cell_type": "code",
   "execution_count": null,
   "id": "0cfdb524",
   "metadata": {
    "lines_to_next_cell": 1
   },
   "outputs": [],
   "source": [
    "def run_steps_interactively():\n",
    "    steps = [collect_data_step, structure_data_step, preprocess_data_step, wrangle_data_step, train_and_evaluate_models_step, visualize_and_analyze_step]\n",
    "\n",
    "    for step in steps:\n",
    "        answer = input(f\"Do you want to run the step '{step.__name__}'? (y/n): \")\n",
    "        if answer.lower() == 'y':\n",
    "            step()"
   ]
  },
  {
   "cell_type": "code",
   "execution_count": null,
   "id": "a9e622e1",
   "metadata": {
    "lines_to_next_cell": 1
   },
   "outputs": [],
   "source": [
    "def run_single_step():\n",
    "    step_mapping = {\n",
    "        1: collect_data_step,\n",
    "        2: structure_data_step,\n",
    "        3: preprocess_data_step,\n",
    "        4: wrangle_data_step,\n",
    "        5: train_and_evaluate_models_step,\n",
    "        6: visualize_and_analyze_step\n",
    "    }\n",
    "\n",
    "    print(\"Choose a step to run:\")\n",
    "    for idx, step in step_mapping.items():\n",
    "        print(f\"{idx}. {step.__name__}\")\n",
    "\n",
    "    choice = int(input(\"Enter the step number: \"))\n",
    "    step_mapping[choice]()"
   ]
  },
  {
   "cell_type": "code",
   "execution_count": null,
   "id": "2e118d0a",
   "metadata": {
    "lines_to_next_cell": 1
   },
   "outputs": [],
   "source": [
    "# Collects data from various sources\n",
    "def collect_data_step():\n",
    "    collect_data()"
   ]
  },
  {
   "cell_type": "code",
   "execution_count": null,
   "id": "fead4c85",
   "metadata": {
    "lines_to_next_cell": 1
   },
   "outputs": [],
   "source": [
    "# Structures raw data into a structured format\n",
    "def structure_data_step():\n",
    "    structure_data(\"transfer_news_data.csv\")"
   ]
  },
  {
   "cell_type": "code",
   "execution_count": null,
   "id": "b473cbf7",
   "metadata": {
    "lines_to_next_cell": 1
   },
   "outputs": [],
   "source": [
    "# Preprocesses structured data for further analysis\n",
    "def preprocess_data_step():\n",
    "    structured_data_rows = utils.pandas_load_csv(\"structured_data.csv\")\n",
    "    transfer_news_data = utils.pandas_load_csv(\"transfer_news_data.csv\")\n",
    "    football_api_players = utils.pandas_load_csv(\"football_api_players.csv\")\n",
    "    transfermarkt_data = utils.pandas_load_csv(\"transfermarkt_data.csv\")\n",
    "\n",
    "    preprocess_data(structured_data_rows, transfer_news_data, football_api_players, transfermarkt_data)"
   ]
  },
  {
   "cell_type": "code",
   "execution_count": null,
   "id": "27243ba2",
   "metadata": {
    "lines_to_next_cell": 1
   },
   "outputs": [],
   "source": [
    "# Wrangles preprocessed data into a format suitable for modeling\n",
    "def wrangle_data_step():\n",
    "    preprocessed_data = utils.pandas_load_csv(\"preprocessed_data.csv\")\n",
    "    transfermarkt_data = utils.pandas_load_csv(\"transfermarkt_data.csv\")\n",
    "\n",
    "    wrangle_data(preprocessed_data, transfermarkt_data)"
   ]
  },
  {
   "cell_type": "code",
   "execution_count": null,
   "id": "dd430f9a",
   "metadata": {
    "lines_to_next_cell": 1
   },
   "outputs": [],
   "source": [
    "# Trains and evaluates machine learning models\n",
    "def train_and_evaluate_models_step():\n",
    "    output_data = utils.pandas_load_csv(\"output_data.csv\")\n",
    "    train_and_evaluate_models(output_data)"
   ]
  },
  {
   "cell_type": "code",
   "execution_count": null,
   "id": "ff292246",
   "metadata": {
    "lines_to_next_cell": 1
   },
   "outputs": [],
   "source": [
    "# Visualizes and analyzes relationships between features and the target variable\n",
    "def visualize_and_analyze_step():\n",
    "    data = utils.pandas_load_csv(\"output_data.csv\")\n",
    "\n",
    "    continuous_features_to_analyze = ['age', 'time_to_transfer_window', 'market_value']\n",
    "    categorical_features_to_analyze = ['nationality', 'position', 'source']\n",
    "    visualize_and_analyze(data, continuous_features_to_analyze, categorical_features_to_analyze, 'veracity')"
   ]
  },
  {
   "cell_type": "code",
   "execution_count": null,
   "id": "5609795a",
   "metadata": {},
   "outputs": [],
   "source": [
    "if __name__ == \"__main__\":\n",
    "    start_time = time.time()\n",
    "\n",
    "    main()\n",
    "\n",
    "    end_time = time.time()\n",
    "    elapsed_time = end_time - start_time\n",
    "    hours, remainder = divmod(elapsed_time, 3600)\n",
    "    minutes, seconds = divmod(remainder, 60)\n",
    "    print(f\"Elapsed time: {int(hours)} hours, {int(minutes)} minutes, and {seconds:.2f} seconds\")  "
   ]
  }
 ],
 "metadata": {
  "jupytext": {
   "cell_metadata_filter": "-all",
   "main_language": "python",
   "notebook_metadata_filter": "-all"
  }
 },
 "nbformat": 4,
 "nbformat_minor": 5
}
